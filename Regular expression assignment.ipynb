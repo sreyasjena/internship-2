{
 "cells": [
  {
   "cell_type": "code",
   "execution_count": 54,
   "id": "d5a295a4",
   "metadata": {},
   "outputs": [],
   "source": [
    "import regex as re"
   ]
  },
  {
   "cell_type": "markdown",
   "id": "b7e7c1ab",
   "metadata": {},
   "source": [
    "# Question 1)"
   ]
  },
  {
   "cell_type": "code",
   "execution_count": 55,
   "id": "3a83d632",
   "metadata": {},
   "outputs": [],
   "source": [
    "def check_string_characters(string):\n",
    "    pattern = r'^[a-zA-Z0-9]+$'\n",
    "    match = re.findall(pattern, string)\n",
    "    \n",
    "    if match:\n",
    "        print(\"String contains only the specified characters.\")\n",
    "    else:\n",
    "        print(\"String contains characters other than a-z, A-Z, and 0-9.\")"
   ]
  },
  {
   "cell_type": "code",
   "execution_count": 56,
   "id": "1dbd40fd",
   "metadata": {},
   "outputs": [
    {
     "name": "stdout",
     "output_type": "stream",
     "text": [
      "String contains only the specified characters.\n"
     ]
    }
   ],
   "source": [
    "test_string = \"Abc123\"\n",
    "check_string_characters(test_string)"
   ]
  },
  {
   "cell_type": "code",
   "execution_count": 57,
   "id": "5be4b708",
   "metadata": {},
   "outputs": [
    {
     "name": "stdout",
     "output_type": "stream",
     "text": [
      "String contains characters other than a-z, A-Z, and 0-9.\n"
     ]
    }
   ],
   "source": [
    "test_string2 = \"aBhiy@2036\"\n",
    "check_string_characters(test_string2)"
   ]
  },
  {
   "cell_type": "markdown",
   "id": "1af2ed62",
   "metadata": {},
   "source": [
    "# Question 2)"
   ]
  },
  {
   "cell_type": "code",
   "execution_count": 58,
   "id": "8451591d",
   "metadata": {},
   "outputs": [],
   "source": [
    "import regex as re"
   ]
  },
  {
   "cell_type": "code",
   "execution_count": 59,
   "id": "23c554e3",
   "metadata": {},
   "outputs": [],
   "source": [
    "def match_pattern(string):\n",
    "    pattern = r'a[b]*'\n",
    "    \n",
    "    if re.findall(pattern, string):\n",
    "        return True\n",
    "    else:\n",
    "        return False"
   ]
  },
  {
   "cell_type": "code",
   "execution_count": 60,
   "id": "8669418c",
   "metadata": {},
   "outputs": [
    {
     "name": "stdout",
     "output_type": "stream",
     "text": [
      "True\n",
      "True\n",
      "True\n",
      "True\n",
      "False\n"
     ]
    }
   ],
   "source": [
    "print(match_pattern('ab'))  \n",
    "print(match_pattern('a'))  \n",
    "print(match_pattern('abbbb')) \n",
    "print(match_pattern('acd'))  \n",
    "print(match_pattern('bcfd')) \n"
   ]
  },
  {
   "cell_type": "markdown",
   "id": "b88c8365",
   "metadata": {},
   "source": [
    "# Question 3)"
   ]
  },
  {
   "cell_type": "code",
   "execution_count": 61,
   "id": "58b12ba5",
   "metadata": {},
   "outputs": [],
   "source": [
    "def match_string(string):\n",
    "    pattern = r'a[b]+'\n",
    "    match = re.findall(pattern, string)\n",
    "    if match:\n",
    "        return True\n",
    "    else:\n",
    "        return False\n"
   ]
  },
  {
   "cell_type": "code",
   "execution_count": 62,
   "id": "1cb32e1e",
   "metadata": {},
   "outputs": [
    {
     "name": "stdout",
     "output_type": "stream",
     "text": [
      "False\n",
      "True\n",
      "True\n",
      "False\n",
      "True\n"
     ]
    }
   ],
   "source": [
    "print(match_string('a'))\n",
    "print(match_string('ab'))\n",
    "print(match_string('aaaabbb'))\n",
    "print(match_string('acb'))\n",
    "print(match_string('dreabbb'))"
   ]
  },
  {
   "cell_type": "markdown",
   "id": "aceda440",
   "metadata": {},
   "source": [
    "# Question 4)"
   ]
  },
  {
   "cell_type": "code",
   "execution_count": 63,
   "id": "ae591783",
   "metadata": {},
   "outputs": [],
   "source": [
    "def match_pattern(string):\n",
    "    pattern = r'a(b)?'\n",
    "    match = re.findall(pattern, string)\n",
    "    if match:\n",
    "        return True\n",
    "    else:\n",
    "        return False"
   ]
  },
  {
   "cell_type": "code",
   "execution_count": 64,
   "id": "f8695d99",
   "metadata": {},
   "outputs": [
    {
     "name": "stdout",
     "output_type": "stream",
     "text": [
      "True\n",
      "True\n",
      "True\n",
      "True\n",
      "False\n"
     ]
    }
   ],
   "source": [
    "print(match_pattern(\"abc\"))   \n",
    "print(match_pattern(\"#@>fdrauyt\"))   \n",
    "print(match_pattern(\"a\"))     \n",
    "print(match_pattern(\"acb\"))  \n",
    "print(match_pattern(\"xyz\"))"
   ]
  },
  {
   "cell_type": "markdown",
   "id": "182dcaf7",
   "metadata": {},
   "source": [
    "# Question 5)"
   ]
  },
  {
   "cell_type": "code",
   "execution_count": 65,
   "id": "48d11cbb",
   "metadata": {},
   "outputs": [],
   "source": [
    "def match_string(string):\n",
    "    pattern = r'a{1}b{3}'\n",
    "    match = re.search(pattern, string)\n",
    "    if match:\n",
    "        return True\n",
    "    else:\n",
    "        return False"
   ]
  },
  {
   "cell_type": "code",
   "execution_count": 66,
   "id": "eb192a48",
   "metadata": {},
   "outputs": [
    {
     "name": "stdout",
     "output_type": "stream",
     "text": [
      "True\n",
      "False\n",
      "True\n"
     ]
    }
   ],
   "source": [
    "print(match_string(\"@%><34abbb\"))\n",
    "print(match_string(\"@%>+3abbsde\"))\n",
    "print(match_string(\"@%78abbbawqw\"))"
   ]
  },
  {
   "cell_type": "markdown",
   "id": "2303c291",
   "metadata": {},
   "source": [
    "# Question 6)"
   ]
  },
  {
   "cell_type": "code",
   "execution_count": 67,
   "id": "0f506925",
   "metadata": {},
   "outputs": [],
   "source": [
    "text = \"ImportanceOfRegularExpressionsInPython\"\n",
    "pattern = \"[A-Z][^A-Z]*\"\n",
    "split_text = re.findall(pattern, text)"
   ]
  },
  {
   "cell_type": "code",
   "execution_count": 68,
   "id": "f4772285",
   "metadata": {},
   "outputs": [
    {
     "name": "stdout",
     "output_type": "stream",
     "text": [
      "['Importance', 'Of', 'Regular', 'Expressions', 'In', 'Python']\n"
     ]
    }
   ],
   "source": [
    " print(split_text)"
   ]
  },
  {
   "cell_type": "markdown",
   "id": "68da3b06",
   "metadata": {},
   "source": [
    "# Question 7)"
   ]
  },
  {
   "cell_type": "code",
   "execution_count": 69,
   "id": "50a53e80",
   "metadata": {},
   "outputs": [],
   "source": [
    "def match_string(string):\n",
    "    pattern = r'a{1}b{2,3}'\n",
    "    match = re.search(pattern, string)\n",
    "    if match:\n",
    "        return \"Match found!\"\n",
    "    else:\n",
    "        return \"No match found.\""
   ]
  },
  {
   "cell_type": "code",
   "execution_count": 70,
   "id": "b83b228a",
   "metadata": {},
   "outputs": [
    {
     "name": "stdout",
     "output_type": "stream",
     "text": [
      "Match found!\n",
      "No match found.\n"
     ]
    }
   ],
   "source": [
    "print(match_string(\"#$%^ghuuardaabbb\"))\n",
    "print(match_string(\"#$%^ghuuardabsde\"))"
   ]
  },
  {
   "cell_type": "markdown",
   "id": "ef4e8fbf",
   "metadata": {},
   "source": [
    "# Question 8)"
   ]
  },
  {
   "cell_type": "code",
   "execution_count": 71,
   "id": "3f12ca18",
   "metadata": {},
   "outputs": [],
   "source": [
    "text = 'this_is@a_test good _sequence'\n",
    "\n",
    "pattern = r'[a-z]+(?:_[a-z]+)+'\n",
    "\n",
    "matches = re.findall(pattern, text)"
   ]
  },
  {
   "cell_type": "code",
   "execution_count": 72,
   "id": "6dd674e9",
   "metadata": {},
   "outputs": [
    {
     "name": "stdout",
     "output_type": "stream",
     "text": [
      "['this_is', 'a_test']\n"
     ]
    }
   ],
   "source": [
    "print(matches)"
   ]
  },
  {
   "cell_type": "markdown",
   "id": "d8ef67c1",
   "metadata": {},
   "source": [
    "# Question 9)"
   ]
  },
  {
   "cell_type": "code",
   "execution_count": 73,
   "id": "3644d090",
   "metadata": {},
   "outputs": [],
   "source": [
    "def match_pattern(string):\n",
    "    pattern = r'a.*b$'\n",
    "    match = re.search(pattern, string)\n",
    "    \n",
    "    if match:\n",
    "        print(\"String matches the pattern.\")\n",
    "    else:\n",
    "        print(\"String does not match the pattern.\")"
   ]
  },
  {
   "cell_type": "code",
   "execution_count": 74,
   "id": "a0a53767",
   "metadata": {},
   "outputs": [
    {
     "name": "stdout",
     "output_type": "stream",
     "text": [
      "String matches the pattern.\n",
      "None\n",
      "String does not match the pattern.\n",
      "None\n"
     ]
    }
   ],
   "source": [
    "print(match_pattern(\"agk#@$%hdgjkb\"))\n",
    "print(match_pattern(\"SDGAFGHH@#$%hgagkhdgjkba\"))"
   ]
  },
  {
   "cell_type": "markdown",
   "id": "f28a1ed5",
   "metadata": {},
   "source": [
    "# Question 10)"
   ]
  },
  {
   "cell_type": "code",
   "execution_count": 75,
   "id": "37a41fbd",
   "metadata": {},
   "outputs": [],
   "source": [
    "string = \"Goodmorning to everyone\"\n",
    "\n",
    "word =\"Goodmorning\"\n",
    "\n",
    "pattern = r'\\b' + re.escape(word)\n",
    "\n",
    "match = re.search(pattern, string)"
   ]
  },
  {
   "cell_type": "code",
   "execution_count": 76,
   "id": "1023d55a",
   "metadata": {},
   "outputs": [
    {
     "name": "stdout",
     "output_type": "stream",
     "text": [
      "Goodmorning\n"
     ]
    }
   ],
   "source": [
    "print(match.group())"
   ]
  },
  {
   "cell_type": "markdown",
   "id": "5781d909",
   "metadata": {},
   "source": [
    "# Question 11)"
   ]
  },
  {
   "cell_type": "code",
   "execution_count": 77,
   "id": "d4551ff7",
   "metadata": {},
   "outputs": [],
   "source": [
    "def match_string(string):\n",
    "    pattern = r'^[a-zA-Z0-9_]+$'\n",
    "    match = re.search(pattern, string)\n",
    "    \n",
    "    if match:\n",
    "        print(\"String matches the pattern.\")\n",
    "    else:\n",
    "        print(\"String does not match the pattern.\")"
   ]
  },
  {
   "cell_type": "code",
   "execution_count": 78,
   "id": "6295cdec",
   "metadata": {},
   "outputs": [
    {
     "name": "stdout",
     "output_type": "stream",
     "text": [
      "String matches the pattern.\n",
      "None\n",
      "String does not match the pattern.\n",
      "None\n"
     ]
    }
   ],
   "source": [
    "print(match_string(\"abhgsi376749__jhDDAFH\"))\n",
    "print(match_string(\"abhgsi376749__j#@@#%hDDAFH\"))"
   ]
  },
  {
   "cell_type": "markdown",
   "id": "7596396d",
   "metadata": {},
   "source": [
    "# Question 12)"
   ]
  },
  {
   "cell_type": "code",
   "execution_count": 79,
   "id": "6a529283",
   "metadata": {},
   "outputs": [],
   "source": [
    "def starts_with_number(string, number):\n",
    "    pattern = fr'^{number}'\n",
    "    match = re.match(pattern, string)\n",
    "    return match is not None"
   ]
  },
  {
   "cell_type": "code",
   "execution_count": 80,
   "id": "8a290f99",
   "metadata": {},
   "outputs": [
    {
     "name": "stdout",
     "output_type": "stream",
     "text": [
      "1234567890 starts with 123\n",
      "9876543210 does not start with 123\n"
     ]
    }
   ],
   "source": [
    "string1 = '1234567890'\n",
    "string2 = '9876543210'\n",
    "number = '123'\n",
    "\n",
    "if starts_with_number(string1, number):\n",
    "    print(f\"{string1} starts with {number}\")\n",
    "else:\n",
    "    print(f\"{string1} does not start with {number}\")\n",
    "\n",
    "if starts_with_number(string2, number):\n",
    "    print(f\"{string2} starts with {number}\")\n",
    "else:\n",
    "    print(f\"{string2} does not start with {number}\")\n"
   ]
  },
  {
   "cell_type": "markdown",
   "id": "a5215755",
   "metadata": {},
   "source": [
    "# Question 13)"
   ]
  },
  {
   "cell_type": "code",
   "execution_count": 81,
   "id": "30bdd8d8",
   "metadata": {},
   "outputs": [
    {
     "name": "stdout",
     "output_type": "stream",
     "text": [
      "192.168.1.1\n"
     ]
    }
   ],
   "source": [
    "def remove_leading_zeros(ip_address):\n",
    "    \n",
    "    pattern = r'\\b0+(\\d+)\\b'\n",
    "\n",
    "    result = re.sub(pattern, r'\\1', ip_address)\n",
    "\n",
    "    return result\n",
    "\n",
    "ip = \"192.168.001.001\"\n",
    "new_ip = remove_leading_zeros(ip)\n",
    "print(new_ip)\n"
   ]
  },
  {
   "cell_type": "markdown",
   "id": "b519f14b",
   "metadata": {},
   "source": [
    "# Question 14)"
   ]
  },
  {
   "cell_type": "code",
   "execution_count": 11,
   "id": "9ecaf333",
   "metadata": {},
   "outputs": [],
   "source": [
    "text = \"On August 15th 1947 that India was declared independent from British colonialism, and the reins of control were handed over to the leaders of the Country\"\n",
    "\n",
    "with open('text.txt', 'w') as file:\n",
    "    file.write(text)"
   ]
  },
  {
   "cell_type": "code",
   "execution_count": 12,
   "id": "cc2167e0",
   "metadata": {},
   "outputs": [
    {
     "name": "stdout",
     "output_type": "stream",
     "text": [
      "['August 15th 1947']\n"
     ]
    }
   ],
   "source": [
    "import re\n",
    "\n",
    "def extract_date(file_path):\n",
    "    with open(file_path, 'r') as file:\n",
    "        content = file.read()\n",
    "    \n",
    "    # Define the regular expression pattern\n",
    "    pattern = r'\\b[A-Z][a-z]+\\s+\\d+(?:st|nd|rd|th)?\\s+\\d{4}\\b'\n",
    "    \n",
    "    # Find the first match in the text\n",
    "    match = re.findall(pattern, content)\n",
    "    \n",
    "    if match:\n",
    "        return match\n",
    "    else:\n",
    "        return None\n",
    "\n",
    "# Test the function with the sample text in a file\n",
    "file_path = 'text.txt'  # Replace with the path to your text file\n",
    "date_string = extract_date(file_path)\n",
    "print(date_string)\n",
    "\n"
   ]
  },
  {
   "cell_type": "markdown",
   "id": "7c2ba949",
   "metadata": {},
   "source": [
    "# Question 15)"
   ]
  },
  {
   "cell_type": "code",
   "execution_count": 13,
   "id": "88b36e31",
   "metadata": {},
   "outputs": [
    {
     "name": "stdout",
     "output_type": "stream",
     "text": [
      "Found words: fox, dog\n"
     ]
    }
   ],
   "source": [
    "def search_literals(text, words):\n",
    "    found_words = []\n",
    "    for word in words:\n",
    "        if word in text:\n",
    "            found_words.append(word)\n",
    "    return found_words\n",
    "\n",
    "sample_text = 'The quick brown fox jumps over the lazy dog.'\n",
    "searched_words = ['fox', 'dog', 'horse']\n",
    "\n",
    "found_words = search_literals(sample_text, searched_words)\n",
    "print(f\"Found words: {', '.join(found_words)}\")"
   ]
  },
  {
   "cell_type": "markdown",
   "id": "d9d38f2c",
   "metadata": {},
   "source": [
    "# Question 16)"
   ]
  },
  {
   "cell_type": "code",
   "execution_count": 14,
   "id": "22134156",
   "metadata": {},
   "outputs": [],
   "source": [
    "import re\n",
    "\n",
    "def search_string(pattern, text):\n",
    "    \n",
    "    escaped_pattern = re.escape(pattern)\n",
    "    \n",
    "    matches = re.finditer(escaped_pattern, text)\n",
    "\n",
    "    for match in matches:\n",
    "        start = match.start()\n",
    "        end = match.end()\n",
    "        print(f\"Found '{pattern}' at position {start} to {end-1}.\")"
   ]
  },
  {
   "cell_type": "code",
   "execution_count": 15,
   "id": "c7d96a9d",
   "metadata": {},
   "outputs": [
    {
     "name": "stdout",
     "output_type": "stream",
     "text": [
      "Found 'fox' at position 16 to 18.\n"
     ]
    }
   ],
   "source": [
    "text = 'The quick brown fox jumps over the lazy dog.'\n",
    "pattern = 'fox'\n",
    "search_string(pattern, text)"
   ]
  },
  {
   "cell_type": "markdown",
   "id": "694ea2fe",
   "metadata": {},
   "source": [
    "# Question 17)"
   ]
  },
  {
   "cell_type": "code",
   "execution_count": 16,
   "id": "d9a7c53e",
   "metadata": {},
   "outputs": [
    {
     "name": "stdout",
     "output_type": "stream",
     "text": [
      "['exercises', 'exercises', 'exercises']\n"
     ]
    }
   ],
   "source": [
    "def find_substrings(text, pattern):\n",
    "    substrings = re.findall(pattern, text)\n",
    "    return substrings\n",
    "\n",
    "text = 'Python exercises, PHP exercises, C# exercises'\n",
    "pattern = 'exercises'\n",
    "result = find_substrings(text, pattern)\n",
    "print(result)\n",
    "\n"
   ]
  },
  {
   "cell_type": "markdown",
   "id": "27092d36",
   "metadata": {},
   "source": [
    "# Question 18)"
   ]
  },
  {
   "cell_type": "code",
   "execution_count": 17,
   "id": "21694800",
   "metadata": {},
   "outputs": [
    {
     "name": "stdout",
     "output_type": "stream",
     "text": [
      "Substring: hello\n",
      "Start position: 7\n",
      "End position: 12\n",
      "\n",
      "Substring: hello\n",
      "Start position: 14\n",
      "End position: 19\n",
      "\n"
     ]
    }
   ],
   "source": [
    "def find_occurrences(string, substring):\n",
    "    pattern = re.compile(substring)\n",
    "    matches = pattern.finditer(string)\n",
    "    \n",
    "    occurrences = []\n",
    "    for match in matches:\n",
    "        occurrence = {\n",
    "            'substring': match.group(),\n",
    "            'start': match.start(),\n",
    "            'end': match.end()\n",
    "        }\n",
    "        occurrences.append(occurrence)\n",
    "    \n",
    "    return occurrences\n",
    "\n",
    "string = \"Hello, hello, hello! How are you today?\"\n",
    "substring = \"hello\"\n",
    "\n",
    "occurrences = find_occurrences(string, substring)\n",
    "for occurrence in occurrences:\n",
    "    print(\"Substring:\", occurrence['substring'])\n",
    "    print(\"Start position:\", occurrence['start'])\n",
    "    print(\"End position:\", occurrence['end'])\n",
    "    print()\n"
   ]
  },
  {
   "cell_type": "markdown",
   "id": "d739bd6f",
   "metadata": {},
   "source": [
    "# Question 19)"
   ]
  },
  {
   "cell_type": "code",
   "execution_count": 19,
   "id": "7ebeda47",
   "metadata": {},
   "outputs": [
    {
     "name": "stdout",
     "output_type": "stream",
     "text": [
      "Enter a date (yyyy-mm-dd): 2003-01-01\n",
      "Converted date: 01-01-2003\n"
     ]
    }
   ],
   "source": [
    "def convert_date(date):\n",
    "   \n",
    "    pattern = r'^(\\d{4})-(\\d{2})-(\\d{2})$'\n",
    "\n",
    "    match = re.match(pattern, date)\n",
    "    if match:\n",
    "        year = match.group(1)\n",
    "        month = match.group(2)\n",
    "        day = match.group(3)\n",
    "\n",
    "\n",
    "        converted_date = f\"{day}-{month}-{year}\"\n",
    "        return converted_date\n",
    "    else:\n",
    "        return \"Invalid date format\"\n",
    "\n",
    "date_input = input(\"Enter a date (yyyy-mm-dd): \")\n",
    "converted_date = convert_date(date_input)\n",
    "print(f\"Converted date: {converted_date}\")\n"
   ]
  },
  {
   "cell_type": "markdown",
   "id": "2ee9a23a",
   "metadata": {},
   "source": [
    "# Question 20)"
   ]
  },
  {
   "cell_type": "code",
   "execution_count": 20,
   "id": "e34ce552",
   "metadata": {},
   "outputs": [
    {
     "name": "stdout",
     "output_type": "stream",
     "text": [
      "['An', 'apple', 'and', 'an', 'elephant', 'are']\n"
     ]
    }
   ],
   "source": [
    "def find_words_starting_with_a_or_e(text):\n",
    "    pattern = r'\\b[aAeE]\\w+' \n",
    "    matches = re.findall(pattern, text)\n",
    "    return matches\n",
    "\n",
    "sentence = \"An apple and an elephant are walking in the park.\"\n",
    "words = find_words_starting_with_a_or_e(sentence)\n",
    "print(words)\n"
   ]
  },
  {
   "cell_type": "markdown",
   "id": "1ba490a6",
   "metadata": {},
   "source": [
    "# Question 21)"
   ]
  },
  {
   "cell_type": "code",
   "execution_count": 21,
   "id": "298571b9",
   "metadata": {},
   "outputs": [
    {
     "name": "stdout",
     "output_type": "stream",
     "text": [
      "Number: 10, Position: 7\n",
      "Number: 5, Position: 21\n",
      "Number: 2, Position: 41\n"
     ]
    }
   ],
   "source": [
    "def separate_numbers(string):\n",
    "    numbers = re.findall(r'\\d+', string)\n",
    "    positions = [m.start() for m in re.finditer(r'\\d+', string)]\n",
    "\n",
    "    for number, position in zip(numbers, positions):\n",
    "        print(f\"Number: {number}, Position: {position}\")\n",
    "\n",
    "\n",
    "input_string = \"I have 10 apples and 5 oranges, but only 2 bananas.\"\n",
    "separate_numbers(input_string)\n"
   ]
  },
  {
   "cell_type": "markdown",
   "id": "d6347bb6",
   "metadata": {},
   "source": [
    "# Question 22)"
   ]
  },
  {
   "cell_type": "code",
   "execution_count": 22,
   "id": "9c981e97",
   "metadata": {},
   "outputs": [
    {
     "name": "stdout",
     "output_type": "stream",
     "text": [
      "Maximum numeric value: 98\n"
     ]
    }
   ],
   "source": [
    "import re\n",
    "\n",
    "def extract_max_numeric_value(string):\n",
    "   \n",
    "    numeric_values = re.findall(r'\\d+', string)\n",
    "    \n",
    "    if numeric_values:\n",
    "        max_numeric_value = max(map(int, numeric_values))\n",
    "        return max_numeric_value\n",
    "    else:\n",
    "        return None\n",
    "\n",
    "string = \"The maximum value is 98, but other values are 50 and 65\"\n",
    "max_value = extract_max_numeric_value(string)\n",
    "print(\"Maximum numeric value:\", max_value)\n"
   ]
  },
  {
   "cell_type": "markdown",
   "id": "97b622dd",
   "metadata": {},
   "source": [
    "# Question 23)"
   ]
  },
  {
   "cell_type": "code",
   "execution_count": 23,
   "id": "9dda5562",
   "metadata": {},
   "outputs": [
    {
     "name": "stdout",
     "output_type": "stream",
     "text": [
      "This Is A String With No Spaces\n"
     ]
    }
   ],
   "source": [
    "text = \"ThisIsAStringWithNoSpaces\"\n",
    "pattern = r'(?<!^)(?=[A-Z])'\n",
    "result = re.sub(pattern, ' ', text)\n",
    "\n",
    "print(result)\n"
   ]
  },
  {
   "cell_type": "markdown",
   "id": "4cdcc414",
   "metadata": {},
   "source": [
    "# Question 24)"
   ]
  },
  {
   "cell_type": "code",
   "execution_count": 24,
   "id": "e0f0c498",
   "metadata": {},
   "outputs": [
    {
     "name": "stdout",
     "output_type": "stream",
     "text": [
      "['This', 'Is', 'String', 'With', 'Sequences', 'Like', 'This', 'One', 'And', 'That', 'One', 'Too']\n"
     ]
    }
   ],
   "source": [
    "text = \"ThisIsAStringWithSequencesLikeThisOneAndThatOneToo\"\n",
    "pattern = r'[A-Z][a-z]+'\n",
    "matches = re.findall(pattern, text)\n",
    "\n",
    "print(matches)\n"
   ]
  },
  {
   "cell_type": "markdown",
   "id": "c15a61a0",
   "metadata": {},
   "source": [
    "#  Question 25)"
   ]
  },
  {
   "cell_type": "code",
   "execution_count": 25,
   "id": "870fdf2f",
   "metadata": {},
   "outputs": [],
   "source": [
    "def remove_duplicate_words(sentence):\n",
    "    pattern = r'\\b(\\w+)\\b\\s+(?=.*\\b\\1\\b)'\n",
    "    unique_sentence = re.sub(pattern, '', sentence)\n",
    "    return unique_sentence"
   ]
  },
  {
   "cell_type": "code",
   "execution_count": 26,
   "id": "add08bd9",
   "metadata": {},
   "outputs": [
    {
     "name": "stdout",
     "output_type": "stream",
     "text": [
      "This is a duplicate sentence.\n"
     ]
    }
   ],
   "source": [
    "sentence = \"This is is a duplicate duplicate sentence sentence.\"\n",
    "unique_sentence = remove_duplicate_words(sentence)\n",
    "print(unique_sentence)"
   ]
  },
  {
   "cell_type": "markdown",
   "id": "9f50937e",
   "metadata": {},
   "source": [
    "# Question 26)"
   ]
  },
  {
   "cell_type": "code",
   "execution_count": 27,
   "id": "cecd71f5",
   "metadata": {},
   "outputs": [],
   "source": [
    "def validate_string(input_string):\n",
    "    pattern = r'^.*[a-zA-Z0-9]$'\n",
    "    match = re.match(pattern, input_string)\n",
    "    return match is not None"
   ]
  },
  {
   "cell_type": "code",
   "execution_count": 28,
   "id": "cfaa6932",
   "metadata": {},
   "outputs": [
    {
     "name": "stdout",
     "output_type": "stream",
     "text": [
      "True\n",
      "False\n",
      "True\n",
      "False\n"
     ]
    }
   ],
   "source": [
    "string1 = \"Hello123\"\n",
    "string2 = \"Testing!\"\n",
    "string3 = \"123456789\"\n",
    "string4 = \"Regex123!\"\n",
    "\n",
    "print(validate_string(string1))  \n",
    "print(validate_string(string2))  \n",
    "print(validate_string(string3))  \n",
    "print(validate_string(string4))  "
   ]
  },
  {
   "cell_type": "markdown",
   "id": "89917286",
   "metadata": {},
   "source": [
    "# Question 27)"
   ]
  },
  {
   "cell_type": "code",
   "execution_count": 29,
   "id": "f8d523dd",
   "metadata": {},
   "outputs": [],
   "source": [
    "def extract_hashtags(text):\n",
    "    pattern = r'#\\w+'\n",
    "    hashtags = re.findall(pattern, text)\n",
    "    return hashtags"
   ]
  },
  {
   "cell_type": "code",
   "execution_count": 30,
   "id": "e2da6c66",
   "metadata": {},
   "outputs": [
    {
     "name": "stdout",
     "output_type": "stream",
     "text": [
      "['#Doltiwal', '#xyzabc', '#Demonetization']\n"
     ]
    }
   ],
   "source": [
    "text = \"\"\"RT @kapil_kausik: #Doltiwal I mean #xyzabc is \"hurt\" by #Demonetization as the same has rendered USELESS <ed><U+00A0><U+00BD><ed><U+00B1><U+0089> \"acquired funds\" No wo\"\"\"\n",
    "hashtags = extract_hashtags(text)\n",
    "print(hashtags)"
   ]
  },
  {
   "cell_type": "markdown",
   "id": "00c58e09",
   "metadata": {},
   "source": [
    "# Question 28)"
   ]
  },
  {
   "cell_type": "code",
   "execution_count": 31,
   "id": "f2ebf0d8",
   "metadata": {},
   "outputs": [],
   "source": [
    "def remove_symbols(text):\n",
    "    pattern = r'<U\\+\\w+>'\n",
    "    clean_text = re.sub(pattern, '', text)\n",
    "    return clean_text"
   ]
  },
  {
   "cell_type": "code",
   "execution_count": 32,
   "id": "f80bf637",
   "metadata": {},
   "outputs": [
    {
     "name": "stdout",
     "output_type": "stream",
     "text": [
      "@Jags123456 Bharat band on 28??<ed><ed>Those who are protesting #demonetization are all different party leaders\n"
     ]
    }
   ],
   "source": [
    "text = \"@Jags123456 Bharat band on 28??<ed><U+00A0><U+00BD><ed><U+00B8><U+0082>Those who are protesting #demonetization are all different party leaders\"\n",
    "clean_text = remove_symbols(text)\n",
    "print(clean_text)"
   ]
  },
  {
   "cell_type": "markdown",
   "id": "3cdc5ba3",
   "metadata": {},
   "source": [
    "# Question 29)"
   ]
  },
  {
   "cell_type": "code",
   "execution_count": 33,
   "id": "6f3e60b2",
   "metadata": {},
   "outputs": [],
   "source": [
    "text = \"Ron was born on 12-09-1992 and he was admitted to school 15-12-1999\"\n",
    "\n",
    "with open('sample.txt', 'w') as file:\n",
    "    file.write(text)"
   ]
  },
  {
   "cell_type": "code",
   "execution_count": 34,
   "id": "f04a101a",
   "metadata": {},
   "outputs": [
    {
     "name": "stdout",
     "output_type": "stream",
     "text": [
      "12-09-1992\n",
      "15-12-1999\n"
     ]
    }
   ],
   "source": [
    "with open('sample.txt', 'r') as file:\n",
    "    text = file.read()\n",
    "\n",
    "pattern = r'\\b\\d{2}-\\d{2}-\\d{4}\\b'\n",
    "\n",
    "matches = re.findall(pattern, text)\n",
    "\n",
    "for match in matches:\n",
    "    print(match)"
   ]
  },
  {
   "cell_type": "markdown",
   "id": "483201c8",
   "metadata": {},
   "source": [
    "# Question 30)"
   ]
  },
  {
   "cell_type": "code",
   "execution_count": 35,
   "id": "bb4b7bda",
   "metadata": {},
   "outputs": [],
   "source": [
    "import re\n",
    "\n",
    "def replace_chars(text):\n",
    "    pattern = r'[ ,.]'\n",
    "    replaced_text = re.sub(pattern, ':', text)\n",
    "    return replaced_text"
   ]
  },
  {
   "cell_type": "code",
   "execution_count": 36,
   "id": "d6372f79",
   "metadata": {},
   "outputs": [
    {
     "name": "stdout",
     "output_type": "stream",
     "text": [
      "Python:Exercises::PHP:exercises:\n"
     ]
    }
   ],
   "source": [
    "sample_text = 'Python Exercises, PHP exercises.'\n",
    "output = replace_chars(sample_text)\n",
    "print(output)"
   ]
  },
  {
   "cell_type": "code",
   "execution_count": null,
   "id": "0c51ea08",
   "metadata": {},
   "outputs": [],
   "source": []
  }
 ],
 "metadata": {
  "kernelspec": {
   "display_name": "Python 3 (ipykernel)",
   "language": "python",
   "name": "python3"
  },
  "language_info": {
   "codemirror_mode": {
    "name": "ipython",
    "version": 3
   },
   "file_extension": ".py",
   "mimetype": "text/x-python",
   "name": "python",
   "nbconvert_exporter": "python",
   "pygments_lexer": "ipython3",
   "version": "3.11.3"
  }
 },
 "nbformat": 4,
 "nbformat_minor": 5
}
